{
 "cells": [
  {
   "cell_type": "markdown",
   "id": "cebc0463-1f2f-4eb5-baf0-304f868626e7",
   "metadata": {},
   "source": [
    "### set up"
   ]
  },
  {
   "cell_type": "code",
   "execution_count": 11,
   "id": "c19e1ae9-3a6e-4e8b-a2b9-49b750c01da0",
   "metadata": {},
   "outputs": [],
   "source": [
    "import math,os, sys,torch,re, numpy as np\n",
    "from types import SimpleNamespace as ns\n",
    "from collections import namedtuple"
   ]
  },
  {
   "cell_type": "markdown",
   "id": "1e57e186-57d9-43bc-b895-8a18799a2695",
   "metadata": {},
   "source": [
    "### cuda setup for paperspace\n",
    "* pip install --disable-pip-version-check --root-user-action=ignore wurlitzer ninja"
   ]
  },
  {
   "cell_type": "code",
   "execution_count": 12,
   "id": "f781ec61-640f-48fb-9635-0cec8e347c52",
   "metadata": {},
   "outputs": [],
   "source": [
    "dim3 = namedtuple('dim3', ['x','y','z'], defaults=(1,1))"
   ]
  },
  {
   "cell_type": "code",
   "execution_count": 13,
   "id": "ba474087-88a8-49a3-bab7-daeed41cfe09",
   "metadata": {},
   "outputs": [
    {
     "data": {
      "text/plain": [
       "dim3(x=2, y=3, z=1)"
      ]
     },
     "execution_count": 13,
     "metadata": {},
     "output_type": "execute_result"
    }
   ],
   "source": [
    "d = dim3(2,3)\n",
    "d"
   ]
  },
  {
   "cell_type": "code",
   "execution_count": 14,
   "id": "19312f7f-0fb6-4227-a0f1-2aed7edcc50d",
   "metadata": {},
   "outputs": [
    {
     "data": {
      "text/plain": [
       "(2, 3, 1)"
      ]
     },
     "execution_count": 14,
     "metadata": {},
     "output_type": "execute_result"
    }
   ],
   "source": [
    "d.x,d.y,d.z"
   ]
  },
  {
   "cell_type": "code",
   "execution_count": 15,
   "id": "0c9be7bc-3b69-4acf-aa6d-cdf231bf1e30",
   "metadata": {},
   "outputs": [],
   "source": [
    "np.set_printoptions(precision=2, linewidth=140)\n",
    "torch.set_printoptions(precision=2, linewidth=140, sci_mode=False)"
   ]
  },
  {
   "cell_type": "code",
   "execution_count": 16,
   "id": "32124521-149e-49bd-bc6b-bc6d7c25c3d5",
   "metadata": {},
   "outputs": [],
   "source": [
    "sys.path.insert(0, '..')"
   ]
  },
  {
   "cell_type": "code",
   "execution_count": 17,
   "id": "2e6282c6-3d49-401f-a29c-8053da1b8bf6",
   "metadata": {},
   "outputs": [],
   "source": [
    "from utills import show_img,load_cuda, cuda_begin, cdiv"
   ]
  },
  {
   "cell_type": "code",
   "execution_count": 18,
   "id": "087b4efb-75e0-4251-b0d0-7ad48a8ec683",
   "metadata": {},
   "outputs": [],
   "source": [
    "%load_ext wurlitzer"
   ]
  },
  {
   "cell_type": "code",
   "execution_count": 19,
   "id": "d3545bec-b105-4963-89f4-d17e4185323b",
   "metadata": {},
   "outputs": [
    {
     "name": "stderr",
     "output_type": "stream",
     "text": [
      "/usr/local/lib/python3.9/dist-packages/wurlitzer.py:211: RuntimeWarning: Failed to set pipe buffer size: [Errno 1] Operation not permitted\n",
      "  warnings.warn(\n"
     ]
    }
   ],
   "source": [
    "torch.manual_seed(42);"
   ]
  },
  {
   "cell_type": "code",
   "execution_count": 58,
   "id": "e3ddad1c-5b7f-4e05-9512-7c778a2a2559",
   "metadata": {},
   "outputs": [],
   "source": [
    "m1 = torch.randn(5120,256)\n",
    "m1s = m1[:4]\n",
    "m2 = torch.randn(256, 5120)\n",
    "m2s = m2[:,:4]"
   ]
  },
  {
   "cell_type": "markdown",
   "id": "61194e92-3605-4ecd-9b36-429f3f800440",
   "metadata": {},
   "source": [
    "#### Python 2D"
   ]
  },
  {
   "cell_type": "code",
   "execution_count": 21,
   "id": "cc47901a-1325-4780-a565-58ede3d55943",
   "metadata": {},
   "outputs": [],
   "source": [
    "def blk_kernel2d(f, blocks, threads, *args):\n",
    "    for i0 in range(blocks.y):\n",
    "        for i1 in range(blocks.x):\n",
    "            for j0 in range(threads.y):\n",
    "                for j1 in range(threads.x): f(dim3(i1,i0),dim3(j1,j0), threads, *args)"
   ]
  },
  {
   "cell_type": "code",
   "execution_count": 22,
   "id": "2fd64bdd-848e-4ccf-ba59-b4fdb97b9cff",
   "metadata": {},
   "outputs": [],
   "source": [
    "def matmal_bk(blockIdx, threadIdx, blockDim, m,n, out, h,w,k):\n",
    "    r = blockIdx.y*blockDim.y + threadIdx.y\n",
    "    c = blockIdx.x*blockDim.x + threadIdx.x\n",
    "    \n",
    "    if (r>=h or c>=w): return\n",
    "    o = 0.\n",
    "    for i in range(k): o += m[r*k+i] * n[i*w+c]\n",
    "    out[r*w+c] = o"
   ]
  },
  {
   "cell_type": "code",
   "execution_count": 23,
   "id": "c7e1730f-7dfa-4954-b75d-2ebda18afa1f",
   "metadata": {},
   "outputs": [],
   "source": [
    "def matmal2d(m,n):\n",
    "    h,k = m.shape\n",
    "    k2,w = n.shape\n",
    "    assert k2==k, 'Size mismatch !'\n",
    "    output = torch.zeros(h,w, dtype=m.dtype)\n",
    "    tpb = dim3(16,16)\n",
    "    blocks = dim3(cdiv(w, tpb.x), cdiv(h,tpb.y))\n",
    "    blk_kernel2d(matmal_bk, blocks, tpb,\n",
    "                m.flatten(), n.flatten(), output.flatten(),h,w,k)\n",
    "    return output"
   ]
  },
  {
   "cell_type": "code",
   "execution_count": 24,
   "id": "4bb5022e-72f6-4eee-ab25-533e6e7c93f9",
   "metadata": {},
   "outputs": [
    {
     "data": {
      "text/plain": [
       "tensor(False)"
      ]
     },
     "execution_count": 24,
     "metadata": {},
     "output_type": "execute_result"
    }
   ],
   "source": [
    "torch.isclose(matmal2d(m1s,m2s), m1s@m2s).all()"
   ]
  },
  {
   "cell_type": "code",
   "execution_count": 25,
   "id": "600b1dcf-da18-4a4e-b77f-7bf099c48528",
   "metadata": {},
   "outputs": [],
   "source": [
    "cuda_src = cuda_begin + r'''\n",
    "__global__ void matmal_k(float* m,float* n, float* out, int h, int w, int k) {\n",
    "    int r = blockIdx.y*blockDim.y + threadIdx.y;\n",
    "    int c = blockIdx.x*blockDim.x + threadIdx.x;\n",
    "    \n",
    "    if (r>=h || c>=w) return;\n",
    "    float o = 0;\n",
    "    for(int i=0; i<k; ++i) o += m[r*k+i] * n[i*w+c];\n",
    "    out[r*w+c] = o;\n",
    "}\n",
    "\n",
    "torch::Tensor matmul(torch::Tensor m, torch::Tensor n){\n",
    "    CHECK_INPUT(m);CHECK_INPUT(n);\n",
    "    int h = m.size(0);\n",
    "    int w = n.size(1);\n",
    "    int k = m.size(1);\n",
    "    TORCH_CHECK(k==n.size(0), \"SIZE MISMATCH!\");\n",
    "    auto output = torch::zeros({h,w}, m.options());\n",
    "    \n",
    "    dim3 tpb(16,16);\n",
    "    dim3 blocks(cdiv(w, tpb.x), cdiv(h, tpb.y));\n",
    "    matmal_k<<<blocks, tpb>>>(\n",
    "        m.data_ptr<float>(), n.data_ptr<float>(), output.data_ptr<float>(), h, w, k);\n",
    "    C10_CUDA_KERNEL_LAUNCH_CHECK();\n",
    "    return output;\n",
    "}\n",
    "'''"
   ]
  },
  {
   "cell_type": "code",
   "execution_count": 26,
   "id": "e55b7c77-b04a-4e70-a2e3-b1587f24dfea",
   "metadata": {},
   "outputs": [],
   "source": [
    "fname = 'matmul'"
   ]
  },
  {
   "cell_type": "code",
   "execution_count": 27,
   "id": "aff436d1-4d32-41b7-9db6-47f2bea96480",
   "metadata": {},
   "outputs": [],
   "source": [
    "def get_sig(fname,src):\n",
    "    res = re.findall(rf'^(.+\\s+{fname}.*?)\\s*{{?\\s*$', src, re.MULTILINE)\n",
    "    return res[0]+';' if res else None"
   ]
  },
  {
   "cell_type": "code",
   "execution_count": 28,
   "id": "902735fe-57cb-41a3-8e4a-541bd2b81e92",
   "metadata": {},
   "outputs": [
    {
     "data": {
      "text/plain": [
       "'torch::Tensor matmul(torch::Tensor m, torch::Tensor n);'"
      ]
     },
     "execution_count": 28,
     "metadata": {},
     "output_type": "execute_result"
    }
   ],
   "source": [
    "cpp_src = get_sig(fname, cuda_src)\n",
    "cpp_src"
   ]
  },
  {
   "cell_type": "code",
   "execution_count": 29,
   "id": "049d82e4-a289-48fe-8102-d5d8c83e347d",
   "metadata": {},
   "outputs": [],
   "source": [
    "module = load_cuda(cuda_src, cpp_src, [fname])"
   ]
  },
  {
   "cell_type": "code",
   "execution_count": 30,
   "id": "48f06fdf-90e3-4082-b95e-d63b744f7736",
   "metadata": {},
   "outputs": [
    {
     "name": "stderr",
     "output_type": "stream",
     "text": [
      "/usr/local/lib/python3.9/dist-packages/wurlitzer.py:211: RuntimeWarning: Failed to set pipe buffer size: [Errno 1] Operation not permitted\n",
      "  warnings.warn(\n"
     ]
    }
   ],
   "source": [
    "m1c,m2c = m1.contiguous().cuda(),m2.contiguous().cuda()"
   ]
  },
  {
   "cell_type": "code",
   "execution_count": 31,
   "id": "9d5d84d5-e4a5-4444-a61e-0d93f19f9936",
   "metadata": {},
   "outputs": [
    {
     "data": {
      "text/plain": [
       "torch.Size([5120, 5120])"
      ]
     },
     "execution_count": 31,
     "metadata": {},
     "output_type": "execute_result"
    }
   ],
   "source": [
    "module.matmul(m1c,m2c).shape"
   ]
  },
  {
   "cell_type": "code",
   "execution_count": 32,
   "id": "b4c91668-dad2-47c5-a313-9f70601a03ac",
   "metadata": {},
   "outputs": [
    {
     "data": {
      "text/plain": [
       "tensor(True, device='cuda:0')"
      ]
     },
     "execution_count": 32,
     "metadata": {},
     "output_type": "execute_result"
    }
   ],
   "source": [
    "torch.isclose(module.matmul(m1c,m2c), m1c@m2c).all()"
   ]
  },
  {
   "cell_type": "code",
   "execution_count": 33,
   "id": "0236bf97-4fdd-4481-ba46-526730449bc6",
   "metadata": {},
   "outputs": [
    {
     "name": "stdout",
     "output_type": "stream",
     "text": [
      "33.3 ms ± 301 µs per loop (mean ± std. dev. of 7 runs, 10 loops each)\n"
     ]
    }
   ],
   "source": [
    "%%timeit -n 10\n",
    "module.matmul(m1c,m2c)\n",
    "torch.cuda.synchronize()"
   ]
  },
  {
   "cell_type": "code",
   "execution_count": 43,
   "id": "9d61cbb1-141d-4d9d-bccd-ef47e7af7bd7",
   "metadata": {},
   "outputs": [],
   "source": [
    "def blk_kernel2D_shrd(f,blocks, threads,sh_sz,*args, **kwargs):\n",
    "    for i0 in range(blocks.y):\n",
    "        for i1 in range(blocks.x):\n",
    "            shared = torch.zeros(sh_sz)\n",
    "            f(dim3(i1,i0),threads, shared,*args, **kwargs)"
   ]
  },
  {
   "cell_type": "code",
   "execution_count": 48,
   "id": "96e45561-bb81-41e0-a26a-74ed05a28b3d",
   "metadata": {},
   "outputs": [],
   "source": [
    "def tiled_matmal_blk(blockIdx, blockDim, shared, m, n, out, h, w, k, tw):\n",
    "    shar_sz = tw*tw\n",
    "    ms, ns = shared[:shar_sz],shared[shar_sz:] # dividing the shared mem to ms and ns\n",
    "    \n",
    "    for ph in range(cdiv(k,tw)):\n",
    "        idx = ph*tw # how far starting idx of the next p(output) as we index one tile after another before we reach the coardinates of the p tile\n",
    "        \n",
    "        #filliling shared mem\n",
    "        for tr in range(blockDim.y):\n",
    "            for tc in range(blockDim.x):\n",
    "                r = blockIdx.y*blockDim.y +tr # coordinate location within the tile \n",
    "                c = blockIdx.x*blockDim.y +tc\n",
    "                \n",
    "                ms[tr*tw+tc] = m[tc+idx+ r*k] if r<h and idx+tc<k else 0.\n",
    "                ns[tr*tw+tc] = n[(tr+idx)*w+ c] if c<w and idx+tr<k else 0.\n",
    "                \n",
    "            #do dot product\n",
    "            for tr in range(blockDim.y):\n",
    "                for tc in range(blockDim.x):\n",
    "                    r,c = blockIdx.y*blockDim.y +tr, blockIdx.x*blockDim.y +tc\n",
    "                    for i in range(tw):\n",
    "                        if r*w+c<len(out): out[r*w+c] += ms[tr*tw+i] * ns[tw*i+tc]"
   ]
  },
  {
   "cell_type": "code",
   "execution_count": 56,
   "id": "a35511ec-8002-4869-9ebf-c29faf3770a9",
   "metadata": {},
   "outputs": [],
   "source": [
    "def matmul_2d(m,n, tw=16):\n",
    "    h,k = m.shape\n",
    "    k2,w = n.shape\n",
    "    assert k==k2, 'Size mismatch !'\n",
    "    output = torch.zeros(h,w, dtype=m.dtype)\n",
    "    tpb = dim3(tw,tw)\n",
    "    blocks = dim3(cdiv(w, tpb.x), cdiv(h,tpb.y))\n",
    "    blk_kernel2D_shrd(tiled_matmal_blk, blocks, tpb, tw*tw*2,\n",
    "                m.flatten(), n.flatten(), output.flatten(),\n",
    "                h,w,k, tw=tw)\n",
    "    return output"
   ]
  },
  {
   "cell_type": "code",
   "execution_count": 54,
   "id": "0afe69c7-5703-4de3-924a-92316ad5f0bd",
   "metadata": {},
   "outputs": [
    {
     "data": {
      "text/plain": [
       "(torch.Size([4, 256]), torch.Size([256, 4]))"
      ]
     },
     "execution_count": 54,
     "metadata": {},
     "output_type": "execute_result"
    }
   ],
   "source": [
    "m1s.shape, m2s.shape"
   ]
  },
  {
   "cell_type": "code",
   "execution_count": 64,
   "id": "7f7bdbbd-4438-47e6-b1b5-e94b76aae886",
   "metadata": {},
   "outputs": [
    {
     "data": {
      "text/plain": [
       "tensor(False)"
      ]
     },
     "execution_count": 64,
     "metadata": {},
     "output_type": "execute_result"
    }
   ],
   "source": [
    "torch.isclose(matmul_2d(m1s,m2s,tw=16), m1s@m2s).all()"
   ]
  },
  {
   "cell_type": "code",
   "execution_count": 60,
   "id": "d97bed56-48e0-4af7-b947-9e23f9278e2e",
   "metadata": {},
   "outputs": [],
   "source": [
    "def run_threads(f, blockDim, *args, **kwargs):\n",
    "    for i0 in range(blockDim.y):\n",
    "        for i1 in range(blockDim.x): f(i0,i1, *args, **kwargs)"
   ]
  },
  {
   "cell_type": "code",
   "execution_count": 62,
   "id": "7deb7a0d-c166-408c-a138-132a9edad1da",
   "metadata": {},
   "outputs": [],
   "source": [
    "def tiled_matmul2D_blk(blockIdx, blockDim, shared, m, n, out, h, w, k, tw):\n",
    "    shar_sz = tw*tw\n",
    "    ms,ns = shared[:shar_sz],shared[shar_sz:]\n",
    "    \n",
    "    def get_rc(tr,tc): return blockIdx.y*blockDim.y + tr, blockIdx.x*blockDim.x + tc\n",
    "    \n",
    "    def filled_shareMem(tr, tc, ph):\n",
    "        r,c= get_rc(tr,tc)\n",
    "        ms[tr*tw+tc] = m[tc + ph*tw + r*k] if r<h and (ph*tw+tc)<k else 0.\n",
    "        ns[tr*tw+tc] = n[(tr + ph*tw)*w + c] if c<w and (ph*tw +tr)<k else 0.\n",
    "        \n",
    "    def dotprod_tld(tr,tc):\n",
    "        r,c = get_rc(tr,tc)\n",
    "        for i in range(tw):\n",
    "            if r*w+c<len(out): out[r*w+c] = ms[tr*tw+i] * ns[tw*i+tc]\n",
    "            \n",
    "    for ph in range(int(math.ceil(k/tw))):\n",
    "        run_threads(filled_shareMem,blockDim, ph)\n",
    "        run_threads(dotprod_tld, blockDim)"
   ]
  },
  {
   "cell_type": "code",
   "execution_count": 63,
   "id": "c619da0b-1069-42d0-874a-5bfdd2bee619",
   "metadata": {},
   "outputs": [],
   "source": [
    "def matmul_2d(m,n, tw=16):\n",
    "    h,k = m.shape\n",
    "    k2,w = n.shape\n",
    "    assert k==k2, 'Size mismatch !'\n",
    "    output = torch.zeros(h,w, dtype=m.dtype)\n",
    "    tpb = dim3(tw,tw)\n",
    "    blocks = dim3(cdiv(w, tpb.x), cdiv(h,tpb.y))\n",
    "    blk_kernel2D_shrd(tiled_matmul2D_blk, blocks, tpb, tw*tw*2,\n",
    "                m.flatten(), n.flatten(), output.flatten(),\n",
    "                h,w,k, tw=tw)\n",
    "    return output"
   ]
  },
  {
   "cell_type": "code",
   "execution_count": 65,
   "id": "eb3792d7-bf78-489c-8d0e-bd5769212523",
   "metadata": {},
   "outputs": [
    {
     "data": {
      "text/plain": [
       "tensor(False)"
      ]
     },
     "execution_count": 65,
     "metadata": {},
     "output_type": "execute_result"
    }
   ],
   "source": [
    "torch.isclose(matmul_2d(m1s,m2s,tw=16), m1s@m2s).all()"
   ]
  },
  {
   "cell_type": "code",
   "execution_count": null,
   "id": "13b2c6ae-3651-41c8-8ec8-52ddfc5d4736",
   "metadata": {},
   "outputs": [],
   "source": []
  }
 ],
 "metadata": {
  "kernelspec": {
   "display_name": "Python 3 (ipykernel)",
   "language": "python",
   "name": "python3"
  },
  "language_info": {
   "codemirror_mode": {
    "name": "ipython",
    "version": 3
   },
   "file_extension": ".py",
   "mimetype": "text/x-python",
   "name": "python",
   "nbconvert_exporter": "python",
   "pygments_lexer": "ipython3",
   "version": "3.9.16"
  }
 },
 "nbformat": 4,
 "nbformat_minor": 5
}
